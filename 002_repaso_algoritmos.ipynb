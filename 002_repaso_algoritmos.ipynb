{
 "cells": [
  {
   "cell_type": "markdown",
   "id": "0c7f2d38-672e-4ccf-96d5-1a544d502e1d",
   "metadata": {},
   "source": [
    "# 1. Algoritmos de ordenamiento"
   ]
  },
  {
   "cell_type": "markdown",
   "id": "4e09a0bf-fcd8-40ca-b692-1c2b982abd28",
   "metadata": {},
   "source": [
    "# 1.2. Insertion sort"
   ]
  },
  {
   "cell_type": "code",
   "execution_count": 1,
   "id": "f285400b-843e-46c6-9e18-b61cceebe152",
   "metadata": {},
   "outputs": [],
   "source": [
    "import random"
   ]
  },
  {
   "cell_type": "code",
   "execution_count": 20,
   "id": "3a7b3914-95cd-40e1-8ba4-997f41c3a13c",
   "metadata": {},
   "outputs": [
    {
     "name": "stdout",
     "output_type": "stream",
     "text": [
      "[12, 39, 13, 48, 44, 0, 19, 38, 18, 41, 5, 17, 20, 44, 28, 1, 9, 8, 30, 11, 28, 37, 0, 21, 20, 21, 43, 0, 23, 44, 11, 38, 11, 1, 42, 32, 28, 31, 8, 20, 12, 45, 18, 17, 17, 39, 19, 22, 6, 49, 13, 8, 20, 0, 3, 31, 37, 6, 8, 29, 4, 49, 27, 44, 31, 33, 8, 26, 38, 5, 28, 0, 12, 19, 34, 10, 37, 50, 0, 15, 19, 2, 13, 10, 47, 11, 34, 14, 18, 4, 47, 37, 30, 47, 48, 46, 28, 31, 36, 47]\n"
     ]
    }
   ],
   "source": [
    "l = [random.randint(0, 50) for i in range(100)]\n",
    "print(l)"
   ]
  },
  {
   "cell_type": "code",
   "execution_count": 21,
   "id": "d0bb0515-ba96-43fb-a838-2280d7721057",
   "metadata": {},
   "outputs": [],
   "source": [
    "# Obtenemos la longitud del arreglo\n",
    "N = len(l)\n",
    "# Definimos el indice del puntero verde\n",
    "pv = 0\n",
    "# Iteramos el puntero verde hasta terminar el arreglo\n",
    "while pv < N:\n",
    "    # Iteramos el puntero rojo a la izquierda hasta que encontremos un valor menor\n",
    "    pr = pv\n",
    "    while pr > 0 and l[pr] < l[pr-1]:\n",
    "        # Intercambiamos los valores mayores a al valor del puntero rojo\n",
    "        aux = l[pr]\n",
    "        l[pr] = l[pr-1]\n",
    "        l[pr-1] = aux\n",
    "        pr = pr - 1\n",
    "    pv += 1"
   ]
  },
  {
   "cell_type": "code",
   "execution_count": 22,
   "id": "2826494b-6c92-487d-96dd-6fc9c9af8292",
   "metadata": {},
   "outputs": [
    {
     "name": "stdout",
     "output_type": "stream",
     "text": [
      "[0, 0, 0, 0, 0, 0, 1, 1, 2, 3, 4, 4, 5, 5, 6, 6, 8, 8, 8, 8, 8, 9, 10, 10, 11, 11, 11, 11, 12, 12, 12, 13, 13, 13, 14, 15, 17, 17, 17, 18, 18, 18, 19, 19, 19, 19, 20, 20, 20, 20, 21, 21, 22, 23, 26, 27, 28, 28, 28, 28, 28, 29, 30, 30, 31, 31, 31, 31, 32, 33, 34, 34, 36, 37, 37, 37, 37, 38, 38, 38, 39, 39, 41, 42, 43, 44, 44, 44, 44, 45, 46, 47, 47, 47, 47, 48, 48, 49, 49, 50]\n"
     ]
    }
   ],
   "source": [
    "print(l)"
   ]
  },
  {
   "cell_type": "code",
   "execution_count": null,
   "id": "7890979a-2569-4cab-a9a6-6251339a4bc7",
   "metadata": {},
   "outputs": [],
   "source": []
  }
 ],
 "metadata": {
  "kernelspec": {
   "display_name": "Python 3 (ipykernel)",
   "language": "python",
   "name": "python3"
  },
  "language_info": {
   "codemirror_mode": {
    "name": "ipython",
    "version": 3
   },
   "file_extension": ".py",
   "mimetype": "text/x-python",
   "name": "python",
   "nbconvert_exporter": "python",
   "pygments_lexer": "ipython3",
   "version": "3.11.9"
  }
 },
 "nbformat": 4,
 "nbformat_minor": 5
}
