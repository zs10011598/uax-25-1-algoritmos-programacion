{
 "cells": [
  {
   "cell_type": "markdown",
   "id": "0c7f2d38-672e-4ccf-96d5-1a544d502e1d",
   "metadata": {},
   "source": [
    "# 1. Algoritmos de ordenamiento"
   ]
  },
  {
   "cell_type": "markdown",
   "id": "4e09a0bf-fcd8-40ca-b692-1c2b982abd28",
   "metadata": {},
   "source": [
    "# 1.1. Insertion sort"
   ]
  },
  {
   "cell_type": "code",
   "execution_count": 2,
   "id": "f285400b-843e-46c6-9e18-b61cceebe152",
   "metadata": {},
   "outputs": [],
   "source": [
    "import random"
   ]
  },
  {
   "cell_type": "code",
   "execution_count": 3,
   "id": "3a7b3914-95cd-40e1-8ba4-997f41c3a13c",
   "metadata": {},
   "outputs": [
    {
     "name": "stdout",
     "output_type": "stream",
     "text": [
      "[39, 23, 41, 43, 5, 22, 31, 1, 25, 4, 14, 3, 25, 1, 29, 6, 38, 8, 29, 44, 43, 5, 12, 49, 33, 45, 50, 46, 4, 39, 6, 4, 48, 16, 5, 26, 46, 16, 5, 33, 28, 18, 42, 1, 42, 50, 41, 10, 26, 32, 17, 47, 24, 38, 48, 43, 41, 30, 16, 33, 47, 3, 32, 40, 48, 44, 29, 0, 22, 50, 17, 1, 17, 47, 40, 28, 13, 24, 37, 31, 36, 27, 46, 13, 46, 19, 7, 6, 40, 33, 34, 25, 26, 33, 36, 42, 1, 30, 19, 35]\n"
     ]
    }
   ],
   "source": [
    "l = [random.randint(0, 50) for i in range(100)]\n",
    "print(l)"
   ]
  },
  {
   "cell_type": "code",
   "execution_count": 4,
   "id": "d0bb0515-ba96-43fb-a838-2280d7721057",
   "metadata": {},
   "outputs": [],
   "source": [
    "# Obtenemos la longitud del arreglo\n",
    "N = len(l)\n",
    "# Definimos el indice del puntero verde\n",
    "pv = 0\n",
    "# Iteramos el puntero verde hasta terminar el arreglo\n",
    "while pv < N:\n",
    "    # Iteramos el puntero rojo a la izquierda hasta que encontremos un valor menor\n",
    "    pr = pv\n",
    "    while pr > 0 and l[pr] < l[pr-1]:\n",
    "        # Intercambiamos los valores mayores a al valor del puntero rojo\n",
    "        aux = l[pr]\n",
    "        l[pr] = l[pr-1]\n",
    "        l[pr-1] = aux\n",
    "        pr = pr - 1\n",
    "    pv += 1"
   ]
  },
  {
   "cell_type": "code",
   "execution_count": 5,
   "id": "2826494b-6c92-487d-96dd-6fc9c9af8292",
   "metadata": {},
   "outputs": [
    {
     "name": "stdout",
     "output_type": "stream",
     "text": [
      "[0, 1, 1, 1, 1, 1, 3, 3, 4, 4, 4, 5, 5, 5, 5, 6, 6, 6, 7, 8, 10, 12, 13, 13, 14, 16, 16, 16, 17, 17, 17, 18, 19, 19, 22, 22, 23, 24, 24, 25, 25, 25, 26, 26, 26, 27, 28, 28, 29, 29, 29, 30, 30, 31, 31, 32, 32, 33, 33, 33, 33, 33, 34, 35, 36, 36, 37, 38, 38, 39, 39, 40, 40, 40, 41, 41, 41, 42, 42, 42, 43, 43, 43, 44, 44, 45, 46, 46, 46, 46, 47, 47, 47, 48, 48, 48, 49, 50, 50, 50]\n"
     ]
    }
   ],
   "source": [
    "print(l)"
   ]
  },
  {
   "cell_type": "markdown",
   "id": "004475e8-06a3-4cfa-88af-aa4c025d10b5",
   "metadata": {},
   "source": [
    "## 1.2. Selection Sort"
   ]
  },
  {
   "cell_type": "code",
   "execution_count": 6,
   "id": "76c590d1-4546-49a5-89e1-d668c9c84702",
   "metadata": {},
   "outputs": [],
   "source": [
    "# Primero vamos a programar una función que encuentre indice(posición) del minimo de un arreglo\n",
    "\n",
    "def find_minimum(l):\n",
    "    aux = 0\n",
    "    N = len(l)\n",
    "    for i in range(N):\n",
    "        if l[i] < l[aux]:\n",
    "            aux = i\n",
    "    return aux"
   ]
  },
  {
   "cell_type": "code",
   "execution_count": 7,
   "id": "e9c5fd3a-0133-43f6-aeb9-d6a84eb0d1d7",
   "metadata": {},
   "outputs": [
    {
     "name": "stdout",
     "output_type": "stream",
     "text": [
      "[31, 26, 25, 8, 21, 14, 32, 3, 26, 31, 45, 35, 0, 18, 32, 35, 1, 48, 29, 24, 31, 20, 36, 0, 21, 36, 36, 38, 25, 32, 48, 15, 45, 24, 44, 36, 18, 50, 16, 29, 42, 1, 23, 35, 6, 13, 44, 19, 43, 4, 21, 46, 46, 28, 46, 28, 32, 20, 40, 42, 13, 28, 28, 7, 6, 2, 43, 10, 21, 9, 32, 22, 27, 17, 45, 47, 31, 31, 31, 4, 46, 43, 33, 5, 1, 20, 0, 28, 26, 35, 43, 17, 10, 0, 13, 2, 22, 25, 14, 49]\n"
     ]
    }
   ],
   "source": [
    "l = [random.randint(0, 50) for i in range(100)]\n",
    "print(l)"
   ]
  },
  {
   "cell_type": "code",
   "execution_count": 8,
   "id": "f0587553-4185-4d49-8fc2-980ca635facc",
   "metadata": {},
   "outputs": [
    {
     "data": {
      "text/plain": [
       "12"
      ]
     },
     "execution_count": 8,
     "metadata": {},
     "output_type": "execute_result"
    }
   ],
   "source": [
    "find_minimum(l)"
   ]
  },
  {
   "cell_type": "code",
   "execution_count": 9,
   "id": "5a135478-a4ae-47b4-b6af-eeacf7ae24b1",
   "metadata": {},
   "outputs": [],
   "source": [
    "def find_minimum_r(l, p):\n",
    "    aux = p\n",
    "    N = len(l)\n",
    "    for i in range(p, N):\n",
    "        if l[i] < l[aux]:\n",
    "            aux = i\n",
    "    return aux"
   ]
  },
  {
   "cell_type": "code",
   "execution_count": 18,
   "id": "eb637e86-b3bf-42fe-9c29-861aaffe66cc",
   "metadata": {},
   "outputs": [],
   "source": [
    "N = len(l) # Obtenemos el número de elementos del arreglo\n",
    "for p in range(N): # Indicamos la posición hasta donde está ordenado el arreglo\n",
    "    pos_min = find_minimum_r(l, p) # Nos da la posidión del valor minimo desde p a la derecha\n",
    "    aux = l[pos_min] # Intercambia el minimo con el puntero\n",
    "    l[pos_min] = l[p]\n",
    "    l[p] = aux"
   ]
  },
  {
   "cell_type": "code",
   "execution_count": 11,
   "id": "a71ea0d0-b6a1-4040-a7e0-91178a794c74",
   "metadata": {},
   "outputs": [
    {
     "name": "stdout",
     "output_type": "stream",
     "text": [
      "[0, 0, 0, 0, 1, 1, 1, 2, 2, 3, 4, 4, 5, 6, 6, 7, 8, 9, 10, 10, 13, 13, 13, 14, 14, 15, 16, 17, 17, 18, 18, 19, 20, 20, 20, 21, 21, 21, 21, 22, 22, 23, 24, 24, 25, 25, 25, 26, 26, 26, 27, 28, 28, 28, 28, 28, 29, 29, 31, 31, 31, 31, 31, 31, 32, 32, 32, 32, 32, 33, 35, 35, 35, 35, 36, 36, 36, 36, 38, 40, 42, 42, 43, 43, 43, 43, 44, 44, 45, 45, 45, 46, 46, 46, 46, 47, 48, 48, 49, 50]\n"
     ]
    }
   ],
   "source": [
    "print(l)"
   ]
  },
  {
   "cell_type": "markdown",
   "id": "e1775193-f048-42a6-8c76-47b77a4016b1",
   "metadata": {},
   "source": [
    "# 2. Búsqueda"
   ]
  },
  {
   "cell_type": "markdown",
   "id": "7d73c7a9-3e2c-4df2-9e0e-ebc0155ab864",
   "metadata": {},
   "source": [
    "# 2.1. Búsqueda lineal"
   ]
  },
  {
   "cell_type": "code",
   "execution_count": 12,
   "id": "5aab4cf7-49a1-4fcb-b70e-d68a9f4a4ab3",
   "metadata": {},
   "outputs": [
    {
     "name": "stdout",
     "output_type": "stream",
     "text": [
      "[23, 40, 18, 39, 47, 7, 48, 13, 26, 2, 22, 48, 28, 49, 36, 32, 25, 7, 33, 23, 35, 27, 40, 47, 49, 18, 25, 19, 18, 18, 50, 48, 6, 26, 1, 10, 44, 35, 24, 39, 7, 40, 4, 8, 15, 2, 24, 37, 28, 47, 45, 41, 23, 38, 24, 34, 27, 45, 7, 12, 16, 0, 14, 25, 29, 37, 35, 30, 10, 14, 42, 18, 50, 34, 36, 19, 43, 2, 23, 32, 12, 6, 4, 39, 5, 9, 35, 0, 39, 29, 10, 18, 15, 35, 26, 50, 26, 31, 2, 20]\n"
     ]
    }
   ],
   "source": [
    "l = [random.randint(0, 50) for i in range(100)]\n",
    "print(l)"
   ]
  },
  {
   "cell_type": "code",
   "execution_count": 13,
   "id": "b2ecb8b7-48a2-4675-8471-953d92670b53",
   "metadata": {},
   "outputs": [],
   "source": [
    "x = 27"
   ]
  },
  {
   "cell_type": "code",
   "execution_count": 14,
   "id": "aa12e199-095a-4fce-a894-dfb65c66de89",
   "metadata": {},
   "outputs": [
    {
     "name": "stdout",
     "output_type": "stream",
     "text": [
      "Sí está!\n"
     ]
    }
   ],
   "source": [
    "N = len(l)\n",
    "for i in range(N):\n",
    "    if l[i] == x:\n",
    "        print('Sí está!')\n",
    "        break"
   ]
  },
  {
   "cell_type": "markdown",
   "id": "b2c95ce1-095f-47e0-9bb6-d5864f5ba7a9",
   "metadata": {},
   "source": [
    "# 2.2. Búsqueda binaria\n",
    "\n",
    "Este algoritmo de búsqueda supone que el arreglo está ordenado.\n",
    "\n",
    "Si se aplica a un arreglo no ordenado no va a funcionar."
   ]
  },
  {
   "cell_type": "code",
   "execution_count": 15,
   "id": "7223012c-c8d7-49a1-b498-144f4f7bc12c",
   "metadata": {},
   "outputs": [
    {
     "name": "stdout",
     "output_type": "stream",
     "text": [
      "[23, 40, 18, 39, 47, 7, 48, 13, 26, 2, 22, 48, 28, 49, 36, 32, 25, 7, 33, 23, 35, 27, 40, 47, 49, 18, 25, 19, 18, 18, 50, 48, 6, 26, 1, 10, 44, 35, 24, 39, 7, 40, 4, 8, 15, 2, 24, 37, 28, 47, 45, 41, 23, 38, 24, 34, 27, 45, 7, 12, 16, 0, 14, 25, 29, 37, 35, 30, 10, 14, 42, 18, 50, 34, 36, 19, 43, 2, 23, 32, 12, 6, 4, 39, 5, 9, 35, 0, 39, 29, 10, 18, 15, 35, 26, 50, 26, 31, 2, 20]\n"
     ]
    }
   ],
   "source": [
    "print(l)"
   ]
  },
  {
   "cell_type": "code",
   "execution_count": 21,
   "id": "4754d83e-d4a2-4514-a8cf-be2ad663a858",
   "metadata": {
    "scrolled": true
   },
   "outputs": [],
   "source": [
    "x = 3\n",
    "N = len(l)\n",
    "a = 0\n",
    "b = N - 1\n",
    "while a < b:\n",
    "    c = int((a+b)/2)\n",
    "    if x < l[c]:\n",
    "        b = c\n",
    "    elif x > l[c]:\n",
    "        a = c + 1\n",
    "    elif x==l[c]:\n",
    "        print('Sí está')\n",
    "        break"
   ]
  },
  {
   "cell_type": "code",
   "execution_count": 20,
   "id": "b6d77c96-197e-4b4b-95db-cf2ab0672517",
   "metadata": {},
   "outputs": [
    {
     "name": "stdout",
     "output_type": "stream",
     "text": [
      "[0, 0, 1, 2, 2, 2, 2, 4, 4, 5, 6, 6, 7, 7, 7, 7, 8, 9, 10, 10, 10, 12, 12, 13, 14, 14, 15, 15, 16, 18, 18, 18, 18, 18, 18, 19, 19, 20, 22, 23, 23, 23, 23, 24, 24, 24, 25, 25, 25, 26, 26, 26, 26, 27, 27, 28, 28, 29, 29, 30, 31, 32, 32, 33, 34, 34, 35, 35, 35, 35, 35, 36, 36, 37, 37, 38, 39, 39, 39, 39, 40, 40, 40, 41, 42, 43, 44, 45, 45, 47, 47, 47, 48, 48, 48, 49, 49, 50, 50, 50]\n"
     ]
    }
   ],
   "source": [
    "print(l)"
   ]
  },
  {
   "cell_type": "markdown",
   "id": "8f1ff9cf-5434-483d-8889-c905acf97f58",
   "metadata": {},
   "source": [
    "# 3. Recursión / Recursividad"
   ]
  },
  {
   "cell_type": "code",
   "execution_count": 23,
   "id": "6faa52c6-10e8-4778-87e6-21a6af0ccde6",
   "metadata": {},
   "outputs": [],
   "source": [
    "def fibo_n(n):\n",
    "    if n == 0: # Condición de paro\n",
    "        return 0\n",
    "    elif n == 1: # Condición de paro\n",
    "        return 1\n",
    "    else: # Paso recursivo\n",
    "        return fibo_n(n-1) + fibo_n(n-2)"
   ]
  },
  {
   "cell_type": "code",
   "execution_count": 24,
   "id": "ab0d4daf-2501-4ce9-b7d8-fb3d81a2c4f0",
   "metadata": {},
   "outputs": [
    {
     "data": {
      "text/plain": [
       "13"
      ]
     },
     "execution_count": 24,
     "metadata": {},
     "output_type": "execute_result"
    }
   ],
   "source": [
    "fibo_n(7)"
   ]
  },
  {
   "cell_type": "code",
   "execution_count": 25,
   "id": "b9aaf3d9-045e-472d-ba2e-b3de36ba2e36",
   "metadata": {},
   "outputs": [
    {
     "data": {
      "text/plain": [
       "1"
      ]
     },
     "execution_count": 25,
     "metadata": {},
     "output_type": "execute_result"
    }
   ],
   "source": [
    "fibo_n(2)"
   ]
  },
  {
   "cell_type": "markdown",
   "id": "c2448bd6-9251-48aa-9f3a-4d0bf139eaa8",
   "metadata": {},
   "source": [
    "# 4. Programación Dinámica"
   ]
  },
  {
   "cell_type": "code",
   "execution_count": 30,
   "id": "1a8ac1a2-4d1b-4883-8b08-b91ecf4bdbc6",
   "metadata": {},
   "outputs": [],
   "source": [
    "def fibo_n_dn(n):\n",
    "    l = [0, 1]\n",
    "    for i in range(2, n+1):\n",
    "        l.append(l[i-1] + l[i-2])\n",
    "    return l[n]"
   ]
  },
  {
   "cell_type": "code",
   "execution_count": 31,
   "id": "b2db3f4c-47de-41ff-934d-fe433faeb5a3",
   "metadata": {},
   "outputs": [
    {
     "data": {
      "text/plain": [
       "13"
      ]
     },
     "execution_count": 31,
     "metadata": {},
     "output_type": "execute_result"
    }
   ],
   "source": [
    "fibo_n_dn(7)"
   ]
  },
  {
   "cell_type": "code",
   "execution_count": null,
   "id": "d390a49a-87ec-44bd-9a5c-2cfe87e1eec8",
   "metadata": {},
   "outputs": [],
   "source": []
  }
 ],
 "metadata": {
  "kernelspec": {
   "display_name": "Python 3 (ipykernel)",
   "language": "python",
   "name": "python3"
  },
  "language_info": {
   "codemirror_mode": {
    "name": "ipython",
    "version": 3
   },
   "file_extension": ".py",
   "mimetype": "text/x-python",
   "name": "python",
   "nbconvert_exporter": "python",
   "pygments_lexer": "ipython3",
   "version": "3.11.9"
  }
 },
 "nbformat": 4,
 "nbformat_minor": 5
}
